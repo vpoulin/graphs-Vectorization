{
 "cells": [
  {
   "cell_type": "markdown",
   "id": "44ca61e4-9152-4d97-8c0b-a7c0599c263c",
   "metadata": {
    "tags": []
   },
   "source": [
    "# Graph Embeddings\n",
    "\n",
    "What we are doing here for graph embedding is similar to what has been done with the Wasserstein Weisfeiler-Lehman graph kernels. \n",
    "See https://arxiv.org/pdf/1906.01277v2.pdf.\n",
    "However, instead of using Weisfeiler-Lehman kernels for averaging the appropriate vectors at each node, we iteratively use Wasserstein vectorizations on vertex neighborhoods to generate a sequece of node vectors.  \n",
    "\n",
    "## The data: ENZYMES. \n",
    "We have 600 small graphs. There is a vector associated to each node for all graphs - this vector is given in the dataset. We want to obtain a graph vector representation. The downstream task is enzyme/graph classification: 6 classes in this dataset. The classes are balanced: 100 graphs in each class.\n",
    "* https://github.com/snap-stanford/GraphRNN/tree/master/dataset/ENZYMES\n",
    "* https://paperswithcode.com/sota/graph-classification-on-enzymes\n",
    "\n",
    "## What we do in more details\n",
    "We transform graphs into hypergraphs by representing each neighborhood by a hyperedge (we can include each node in its neighborhood or not). We get one hyperedge per node. These hyperedges are used to obtain new vertex vector representations (of the vertices' neighborhoods) using the Wasserstein vectorizer on all hyperedges or all graphs simultaneously. This process is then applied iteratively, using the same hyperedges but different vectors. At each iteration, we use the vertex vectors of the previous iteration. This process results in a sequence of vertex vectors that incorporate information about neighborhoods of larger radius each time: n1, n2, n3, ... \n",
    "\n",
    "For each vertex, we then concatenate its associated vectors to get a final vertex vector representatation. \n",
    "(n0)- vertex vector | n1-neighborhood vector | n2-neighborhood vector | ... \n",
    "\n",
    "Finally, we use these concatenated vertex vectors, one per vertex, to generate a graph representation via the Wasserstein vectorizer. "
   ]
  },
  {
   "cell_type": "code",
   "execution_count": 1,
   "id": "98c21936",
   "metadata": {},
   "outputs": [],
   "source": [
    "import numpy as np\n",
    "import pandas as pd\n",
    "import matplotlib.pyplot as plt\n",
    "import sklearn.datasets\n",
    "import sklearn.feature_extraction.text\n",
    "import sklearn.preprocessing\n",
    "from sklearn.decomposition import TruncatedSVD\n",
    "from sklearn.preprocessing import normalize\n",
    "import scipy.sparse\n",
    "import vectorizers\n",
    "import vectorizers.transformers\n",
    "import seaborn as sns\n",
    "import warnings\n",
    "import igraph as ig\n",
    "from scipy.sparse import vstack\n",
    "\n",
    "warnings.simplefilter(\"ignore\")\n",
    "sns.set()"
   ]
  },
  {
   "cell_type": "code",
   "execution_count": 2,
   "id": "be843b07-9663-4101-8af4-a1faebc94fb4",
   "metadata": {},
   "outputs": [],
   "source": [
    "import os\n",
    "directory = '../data/ENZYMES/'\n",
    "all_filenames =  np.sort(os.listdir(directory))\n",
    "graph_filenames = [f'{directory}{x}' for x in all_filenames if x.endswith('.gml')]\n",
    "label_filename = f'{directory}Labels.txt'\n",
    "feature_filename = f'{directory}node_features.npy'"
   ]
  },
  {
   "cell_type": "code",
   "execution_count": 3,
   "id": "8590f14a-8f58-4d9c-bca3-47decb3f84e6",
   "metadata": {},
   "outputs": [],
   "source": [
    "graphs = [ig.read(fname) for fname in graph_filenames]\n",
    "\n",
    "# load node features for continuous graphs\n",
    "node_features = np.load(feature_filename, allow_pickle=True)\n",
    "\n",
    "with open(label_filename) as file:\n",
    "    graph_labels = np.array([line.rstrip() for line in file])"
   ]
  },
  {
   "cell_type": "code",
   "execution_count": 4,
   "id": "190b480a-31be-43fb-8f58-74428de34e6b",
   "metadata": {},
   "outputs": [
    {
     "name": "stdout",
     "output_type": "stream",
     "text": [
      "0 37 (37, 18)\n",
      "1 23 (23, 18)\n",
      "2 25 (25, 18)\n",
      "3 24 (24, 18)\n",
      "4 23 (23, 18)\n"
     ]
    }
   ],
   "source": [
    "# Making sure the graphs and the features lists are properly aligned by checking their sizes\n",
    "for i in range(5):\n",
    "    print(i, graphs[i].vcount(), node_features[i].shape)"
   ]
  },
  {
   "cell_type": "code",
   "execution_count": 5,
   "id": "3f83b1b9-bc74-4910-a101-b2e4187a3b31",
   "metadata": {},
   "outputs": [],
   "source": [
    "vertex_vectors_0 = np.vstack(node_features)"
   ]
  },
  {
   "cell_type": "code",
   "execution_count": 6,
   "id": "3205bf08-a4d1-42b8-93ce-6f4591fe9ad7",
   "metadata": {},
   "outputs": [
    {
     "data": {
      "text/plain": [
       "(19474, 18)"
      ]
     },
     "execution_count": 6,
     "metadata": {},
     "output_type": "execute_result"
    }
   ],
   "source": [
    "vertex_vectors_0.shape"
   ]
  },
  {
   "cell_type": "code",
   "execution_count": 7,
   "id": "415edb80-b909-48b1-aeca-4aadc63ec8ac",
   "metadata": {},
   "outputs": [],
   "source": [
    "graphs_vertices = [[str(x) for x in list(np.sort([int(v['id']) for v in g.vs]))] for g in graphs]"
   ]
  },
  {
   "cell_type": "code",
   "execution_count": 8,
   "id": "b13532f1-8968-4fda-9c2d-759618c1fc2c",
   "metadata": {},
   "outputs": [],
   "source": [
    "vertex_names = list(np.hstack(graphs_vertices))\n",
    "vertex_names_dictionary = dict()\n",
    "for i, v in enumerate(vertex_names):\n",
    "    vertex_names_dictionary[v] = i\n",
    "    \n",
    "n_vertices = len(vertex_names_dictionary)"
   ]
  },
  {
   "cell_type": "code",
   "execution_count": 9,
   "id": "1409047e",
   "metadata": {},
   "outputs": [
    {
     "name": "stdout",
     "output_type": "stream",
     "text": [
      "CPU times: user 932 ms, sys: 0 ns, total: 932 ms\n",
      "Wall time: 932 ms\n"
     ]
    }
   ],
   "source": [
    "%%time\n",
    "incidence_vectorizer = vectorizers.NgramVectorizer(\n",
    "    token_dictionary=vertex_names_dictionary\n",
    ").fit(graphs_vertices)\n",
    "\n",
    "incidence_matrix = incidence_vectorizer.transform(graphs_vertices)"
   ]
  },
  {
   "cell_type": "markdown",
   "id": "5637ac15-9d8b-4e25-9e1b-d6fa6c2d2e96",
   "metadata": {},
   "source": [
    "# Data description\n",
    "\n",
    "We have 600 enzymes/graphs. Graphs may contain up to 125 nodes, or as little as 2 nodes, but the average is around 32. You can see the graph size distribution below.\n",
    "\n",
    "With all graphs together, there is a total of 19,474 vertices overall. "
   ]
  },
  {
   "cell_type": "code",
   "execution_count": 10,
   "id": "9f7d593b-5ba9-4088-babd-ffefb1279f56",
   "metadata": {},
   "outputs": [
    {
     "name": "stdout",
     "output_type": "stream",
     "text": [
      "125.0\n",
      "2.0\n",
      "32.456665\n"
     ]
    }
   ],
   "source": [
    "print(np.max(incidence_matrix.sum(axis=1)))\n",
    "print(np.min(incidence_matrix.sum(axis=1)))\n",
    "print(np.mean(incidence_matrix.sum(axis=1)))"
   ]
  },
  {
   "cell_type": "code",
   "execution_count": 11,
   "id": "b4755b3c-944b-4d7f-b126-b26b28266c46",
   "metadata": {},
   "outputs": [
    {
     "data": {
      "text/plain": [
       "Text(0.5, 1.0, \"Graphs' sizes\")"
      ]
     },
     "execution_count": 11,
     "metadata": {},
     "output_type": "execute_result"
    },
    {
     "data": {
      "image/png": "[encoded data removed]",
      "text/plain": [
       "<Figure size 640x480 with 1 Axes>"
      ]
     },
     "metadata": {},
     "output_type": "display_data"
    }
   ],
   "source": [
    "sns.histplot(incidence_matrix.sum(axis=1), legend=False).set_title(\"Graphs' sizes\")"
   ]
  },
  {
   "cell_type": "code",
   "execution_count": 12,
   "id": "6643e764-917d-42ff-848f-e09078e9ab0f",
   "metadata": {},
   "outputs": [
    {
     "data": {
      "text/plain": [
       "Text(0.5, 1.0, 'Vertex degrees - over all graphs')"
      ]
     },
     "execution_count": 12,
     "metadata": {},
     "output_type": "execute_result"
    },
    {
     "data": {
      "image/png": "[encoded data removed]",
      "text/plain": [
       "<Figure size 640x480 with 1 Axes>"
      ]
     },
     "metadata": {},
     "output_type": "display_data"
    }
   ],
   "source": [
    "vertex_degrees = [deg for g in graphs for deg in g.degree()]\n",
    "len(vertex_degrees)\n",
    "sns.histplot(vertex_degrees, legend=False).set_title(\"Vertex degrees - over all graphs\")"
   ]
  },
  {
   "cell_type": "markdown",
   "id": "515a766a",
   "metadata": {},
   "source": [
    "# Embed graphs as bags of vertex vectors (Wasserstein)"
   ]
  },
  {
   "cell_type": "code",
   "execution_count": 13,
   "id": "c911a244",
   "metadata": {},
   "outputs": [
    {
     "name": "stdout",
     "output_type": "stream",
     "text": [
      "CPU times: user 82.1 ms, sys: 56.3 ms, total: 138 ms\n",
      "Wall time: 8.14 ms\n"
     ]
    },
    {
     "data": {
      "text/plain": [
       "(600, 18)"
      ]
     },
     "execution_count": 13,
     "metadata": {},
     "output_type": "execute_result"
    }
   ],
   "source": [
    "%%time\n",
    "# n_components = vertex_vectors_0.shape[0]\n",
    "graph_awe_matrix_0 = vectorizers.ApproximateWassersteinVectorizer(\n",
    "    normalization_power=0.66,\n",
    "    # n_components=n_components,\n",
    "    random_state=42,\n",
    ").fit_transform(incidence_matrix, vectors=vertex_vectors_0)\n",
    "\n",
    "graph_awe_matrix_0.shape"
   ]
  },
  {
   "cell_type": "markdown",
   "id": "c4f65f92-5153-4575-beb4-0892dc588ad6",
   "metadata": {},
   "source": [
    "# Embed neighborhoods as bags of vertex vectors (Wasserstein)\n",
    "\n",
    "To do this, we consider each neighborhood as a hyperedge assigned to a vertex, and we build a node incidence matrix of this hypergraph."
   ]
  },
  {
   "cell_type": "code",
   "execution_count": 14,
   "id": "f8fdde75-0e23-4b70-b867-5358bf710842",
   "metadata": {},
   "outputs": [],
   "source": [
    "# Egonet: include the node itself in its hyperedge\n",
    "hypergraphs = [[[str(int(g.vs[node_id]['id']))] + [str(int(x['id'])) for x in g.vs[node_id].neighbors()] for node_id in range(g.vcount())]for g in graphs]"
   ]
  },
  {
   "cell_type": "code",
   "execution_count": 15,
   "id": "c1cdc819-cb45-4da8-91d4-88f84ff05070",
   "metadata": {},
   "outputs": [],
   "source": [
    "hyperedges_all = [h for hgraph in hypergraphs for h in hgraph]"
   ]
  },
  {
   "cell_type": "code",
   "execution_count": 16,
   "id": "9f7e2aac-e352-4e08-a0f6-78bd5a2e06cb",
   "metadata": {},
   "outputs": [],
   "source": [
    "node_incidence_vectorizer = vectorizers.NgramVectorizer(\n",
    "    token_dictionary=vertex_names_dictionary\n",
    ").fit(hyperedges_all)\n",
    "\n",
    "node_incidence_matrix = node_incidence_vectorizer.transform(hyperedges_all)"
   ]
  },
  {
   "cell_type": "markdown",
   "id": "f421a61e-72cb-4af8-8c10-f34c3d993bc2",
   "metadata": {},
   "source": [
    "# Effect of vector normalization?"
   ]
  },
  {
   "cell_type": "code",
   "execution_count": 17,
   "id": "8e0387e8-0b05-419f-b3b7-de3a6692b3e4",
   "metadata": {},
   "outputs": [],
   "source": [
    "vertex_vectors_norm_0 = normalize(vertex_vectors_0, axis=1, norm='l1')\n",
    "\n",
    "graph_awe_matrix_norm_0 = vectorizers.ApproximateWassersteinVectorizer(\n",
    "    normalization_power=0.66,\n",
    "    \n",
    "    # n_components=n_components,\n",
    "    random_state=42,\n",
    ").fit_transform(incidence_matrix, vectors=vertex_vectors_norm_0)"
   ]
  },
  {
   "cell_type": "markdown",
   "id": "139f3d9f-a7ad-49cd-8e21-7dc932c74a3b",
   "metadata": {},
   "source": [
    "# Iteratively embed vertices as bags (n1-neighborhoods) of vertices (via Wasserstein)"
   ]
  },
  {
   "cell_type": "code",
   "execution_count": 18,
   "id": "3b9cd7ba-11ab-48f9-a48f-d57ea23f943b",
   "metadata": {},
   "outputs": [],
   "source": [
    "vertex_awe_vectors = dict()\n",
    "graph_awe_matrix = dict()\n",
    "graph_awe_matrix_svd = dict()"
   ]
  },
  {
   "cell_type": "code",
   "execution_count": 19,
   "id": "69877e9b-19d3-410e-8f8b-524fb7764ac4",
   "metadata": {},
   "outputs": [],
   "source": [
    "number_iteration = 3"
   ]
  },
  {
   "cell_type": "code",
   "execution_count": 20,
   "id": "150caa77-dffb-4405-840d-9688be6cc102",
   "metadata": {},
   "outputs": [],
   "source": [
    "vertex_awe_vectors[0] = vertex_vectors_0\n",
    "graph_awe_matrix[0] = graph_awe_matrix_0"
   ]
  },
  {
   "cell_type": "code",
   "execution_count": 22,
   "id": "4a38cff1-df94-43ef-aa6c-725ebed81ded",
   "metadata": {},
   "outputs": [
    {
     "name": "stdout",
     "output_type": "stream",
     "text": [
      "Interation 1, shape of vector matrix (19474, 18), shape of graph matrix (600, 36)\n",
      "Interation 2, shape of vector matrix (19474, 18), shape of graph matrix (600, 54)\n"
     ]
    }
   ],
   "source": [
    "vertex_awe_vectors[0] = normalize(vertex_awe_vectors[0], axis=1, norm='l1')\n",
    "n_components = vertex_awe_vectors[0].shape[1]\n",
    "svd = TruncatedSVD(n_components=n_components)\n",
    "\n",
    "for i in range(1,number_iteration):\n",
    "    vertex_awe_vectors[i] = vectorizers.ApproximateWassersteinVectorizer(\n",
    "        normalization_power=0.66,\n",
    "        random_state=42,\n",
    "        # n_components=n_components\n",
    "    ).fit_transform(node_incidence_matrix, vectors=vertex_awe_vectors[i-1])\n",
    "\n",
    "\n",
    "    vertex_awe_vectors[i] = normalize(vertex_awe_vectors[i], axis=1, norm='l1')\n",
    "\n",
    "    graph_awe_matrix[i] = vectorizers.ApproximateWassersteinVectorizer(\n",
    "        random_state=42,\n",
    "        # n_components=n_components,\n",
    "        normalization_power=0.66,\n",
    "    ).fit_transform(incidence_matrix, \n",
    "                    vectors=np.hstack([vertex_awe_vectors[i] for j in range(i+1)])\n",
    "                   )\n",
    "    \n",
    "    graph_awe_matrix_svd[i] = svd.fit_transform(graph_awe_matrix[i])\n",
    "    \n",
    "    print(f'Interation {i}, shape of vector matrix {vertex_awe_vectors[i].shape}, shape of graph matrix {graph_awe_matrix[i].shape}')"
   ]
  },
  {
   "cell_type": "code",
   "execution_count": 23,
   "id": "fec69564-f55b-4669-9ce1-d415fbd6709b",
   "metadata": {},
   "outputs": [],
   "source": [
    "vector_df = pd.DataFrame()\n",
    "vector_df['groups'] = np.hstack(np.array([i]*vertex_awe_vectors[i].shape[0]) for i in range(number_iteration))\n",
    "vector_df['lengths'] = np.hstack(np.linalg.norm(vertex_awe_vectors[i], axis=1, ord=1) for i in range(number_iteration))"
   ]
  },
  {
   "cell_type": "markdown",
   "id": "f2b05a67",
   "metadata": {},
   "source": [
    "# Downstream Task Comparison\n",
    "\n",
    "Let's see how that does on the classification task"
   ]
  },
  {
   "cell_type": "markdown",
   "id": "34165bb6",
   "metadata": {},
   "source": [
    "Currently, there is no use of using TF-IDF or info-gain as each node appears only once. If we were to use the vector representation of nodes, we could use a continuous version of info gain... not sure how to do this."
   ]
  },
  {
   "cell_type": "code",
   "execution_count": 32,
   "id": "1be6a6ca",
   "metadata": {},
   "outputs": [],
   "source": [
    "import sklearn.model_selection\n",
    "import sklearn.ensemble\n",
    "import sklearn.linear_model\n",
    "import sklearn.neural_network\n",
    "import sklearn.neighbors\n",
    "\n",
    "from sklearn.experimental import enable_hist_gradient_boosting"
   ]
  },
  {
   "cell_type": "code",
   "execution_count": 33,
   "id": "14f7dcc1",
   "metadata": {},
   "outputs": [],
   "source": [
    "def cross_validate(model, data, labels, n_splits=20, test_ratio=0.1, random_seed=42):\n",
    "    splitter = sklearn.model_selection.ShuffleSplit(\n",
    "        n_splits=n_splits, test_size=test_ratio, random_state=random_seed\n",
    "    )\n",
    "    result = sklearn.model_selection.cross_val_score(model, data, labels, cv=splitter)\n",
    "    return result\n",
    "\n",
    "def cross_validation_dataframe(model, data, labels, feature_sets, n_splits=20, test_ratio=0.1, random_seed=42):\n",
    "    dfs = []\n",
    "    for feature_space_name, feature_space in feature_sets.items():\n",
    "        cv_scores = cross_validate(model, feature_space, labels, n_splits, test_ratio, random_seed)\n",
    "        feature_df = pd.DataFrame(\n",
    "            {\n",
    "                \"run\" : np.arange(n_splits), \n",
    "                \"Embedding\" : feature_space_name,\n",
    "                \"Model\" : model.__repr__().split(\"(\")[0],\n",
    "                \"Accuracy\" : cv_scores,\n",
    "            }\n",
    "        )\n",
    "        dfs.append(feature_df)\n",
    "    return pd.concat(dfs)"
   ]
  },
  {
   "cell_type": "markdown",
   "id": "948e3508-ae61-4634-91b2-82c9bf86310a",
   "metadata": {},
   "source": [
    "## Normalization effect on downstream task - no neighborhoods\n",
    "\n",
    "Here, we just represent graphs as bag of vertex vectors: no Weisfeiler-Lehman graph kernels, no Wasserstein vectorizing of neighborhoods. This method works remarkably well for our graphs given its simplicity. We get a average of roughly 70% with a RandomForest classifier, comparable to the baseline in the paper (RBF-WL radial basis function with Weisfeiler-Lehman)."
   ]
  },
  {
   "cell_type": "markdown",
   "id": "9a53e63f-f665-4c16-a81a-71cee0fcfee5",
   "metadata": {},
   "source": [
    "It seems like the neighborhoods do not bring \n",
    "\n",
    "The results found in https://arxiv.org/pdf/1906.01277v2.pdf\n",
    "\n",
    "The leaderboard found at https://paperswithcode.com/sota/graph-classification-on-enzymes"
   ]
  },
  {
   "cell_type": "code",
   "execution_count": 34,
   "id": "aef1d25c-4a5c-447b-83e2-6e3dd6854e0d",
   "metadata": {},
   "outputs": [
    {
     "data": {
      "text/plain": [
       "Counter({'6': 100, '5': 100, '1': 100, '2': 100, '3': 100, '4': 100})"
      ]
     },
     "execution_count": 34,
     "metadata": {},
     "output_type": "execute_result"
    }
   ],
   "source": [
    "from collections import Counter\n",
    "Counter(graph_labels)"
   ]
  },
  {
   "cell_type": "code",
   "execution_count": 35,
   "id": "c0474ae7-1bd3-4737-9c2d-052d7fc7ff12",
   "metadata": {},
   "outputs": [],
   "source": [
    "models_norm = [\n",
    "    sklearn.neighbors.KNeighborsClassifier(metric=\"cosine\", n_neighbors=10, weights=\"distance\"),\n",
    "    # sklearn.ensemble.HistGradientBoostingClassifier(),\n",
    "    sklearn.ensemble.RandomForestClassifier(),\n",
    "    # sklearn.neural_network.MLPClassifier(hidden_layer_sizes=(100, 80, 40))\n",
    "]\n",
    "feature_sets_norm = {\n",
    "    \"Wasserstein original\": graph_awe_matrix_0,\n",
    "    \"Wasserstein normalized\":  graph_awe_matrix_norm_0\n",
    "}"
   ]
  },
  {
   "cell_type": "code",
   "execution_count": 36,
   "id": "7d6a82e4-999b-4adf-99c4-b3e29c131b6b",
   "metadata": {},
   "outputs": [
    {
     "name": "stdout",
     "output_type": "stream",
     "text": [
      "KNeighborsClassifier(metric='cosine', n_neighbors=10, weights='distance')\n",
      "RandomForestClassifier()\n",
      "CPU times: user 16.2 s, sys: 226 ms, total: 16.4 s\n",
      "Wall time: 7.68 s\n"
     ]
    }
   ],
   "source": [
    "%%time\n",
    "results_norm = []\n",
    "for model in models_norm:\n",
    "    print(model)\n",
    "    res = cross_validation_dataframe(\n",
    "        model, \n",
    "        feature_sets_norm,\n",
    "        graph_labels,\n",
    "        feature_sets = feature_sets_norm\n",
    "    )\n",
    "    results_norm.append(res)\n",
    "\n",
    "df_norm = pd.concat( results_norm )"
   ]
  },
  {
   "cell_type": "code",
   "execution_count": 37,
   "id": "d493d156-21c1-4baa-bb95-d43fe60f6b79",
   "metadata": {},
   "outputs": [
    {
     "data": {
      "text/plain": [
       "<seaborn.axisgrid.FacetGrid at 0x7f6ea26db070>"
      ]
     },
     "execution_count": 37,
     "metadata": {},
     "output_type": "execute_result"
    },
    {
     "data": {
      "image/png": "[encoded data removed]",
      "text/plain": [
       "<Figure size 1600x800 with 2 Axes>"
      ]
     },
     "metadata": {},
     "output_type": "display_data"
    }
   ],
   "source": [
    "g = sns.catplot(\n",
    "    kind=\"swarm\", \n",
    "    x=\"Embedding\", \n",
    "    y=\"Accuracy\", \n",
    "    col=\"Model\",\n",
    "    col_wrap=2,\n",
    "    data=df_norm, \n",
    "    height=8, \n",
    "    alpha=0.5,\n",
    "    zorder=1,\n",
    ")\n",
    "g.map_dataframe(\n",
    "    sns.pointplot, \n",
    "    x=\"Embedding\", \n",
    "    y=\"Accuracy\", \n",
    "    color=\"Model\", \n",
    "    data=df_norm, \n",
    "    # height=6, \n",
    "    # aspect=1.3,\n",
    "    palette=\"dark\",\n",
    "    join=False,\n",
    "    order=[\n",
    "        \"Wasserstein original\",\n",
    "        \"Wasserstein normalized\"\n",
    "    ],\n",
    "    ci=\"sd\",\n",
    "    # zorder=2,\n",
    "    scale=0.9,\n",
    ")\n",
    "g.set_titles(col_template=\"{col_name}\")\n",
    "g.set_xticklabels([\n",
    "        \"Wasserstein original\",\n",
    "        \"Wasserstein normalized\"\n",
    "    ])"
   ]
  },
  {
   "cell_type": "markdown",
   "id": "bcfd76a0-e995-4a4a-91bd-9d36b36cf026",
   "metadata": {},
   "source": [
    "It seems like normalizing the vectors is not helpful but does not degrade the results all that much. The problem is that if we are to concatenate vectors that incorporate information of different neighborhoods' sizes, the vectors obtained via the Wasserstein vectorizer and the initial vectors are not on comparable scales. This is why, in the next section, we normalize all vectors."
   ]
  },
  {
   "cell_type": "markdown",
   "id": "7f0c5645-00de-4b64-93df-9d1c303e18d1",
   "metadata": {},
   "source": [
    "## Concatenating neighborhood vectors on downstream task"
   ]
  },
  {
   "cell_type": "code",
   "execution_count": 38,
   "id": "f98c7438",
   "metadata": {},
   "outputs": [],
   "source": [
    "models = [\n",
    "    sklearn.neighbors.KNeighborsClassifier(metric=\"cosine\", n_neighbors=10, weights=\"distance\"),\n",
    "    # sklearn.ensemble.HistGradientBoostingClassifier(),\n",
    "    sklearn.ensemble.RandomForestClassifier(),\n",
    "    # sklearn.neural_network.MLPClassifier(hidden_layer_sizes=(100, 80, 40))\n",
    "]\n",
    "feature_sets = {\n",
    "    f\"AW {i}-times \": graph_awe_matrix[i] for i in range(number_iteration)\n",
    "}\n",
    "feature_sets.update({\n",
    "    f\"AW-svd {i}-times \": graph_awe_matrix_svd[i] for i in range(1, number_iteration)\n",
    "})\n",
    "\n",
    "order = [\n",
    "        f\"AW {i}-times \" for i in range(number_iteration)\n",
    "    ] + [\n",
    "        f\"AW-svd {i}-times \" for i in range(1, number_iteration)\n",
    "    ]"
   ]
  },
  {
   "cell_type": "markdown",
   "id": "727d1bcf",
   "metadata": {},
   "source": [
    "Now we reun the cross validation across all the models and all the feature sets. Be forewarned if you run this, it will take quite a while."
   ]
  },
  {
   "cell_type": "code",
   "execution_count": 39,
   "id": "19de522c-ab87-4dc3-8554-43d7f217c143",
   "metadata": {},
   "outputs": [
    {
     "name": "stdout",
     "output_type": "stream",
     "text": [
      "KNeighborsClassifier(metric='cosine', n_neighbors=10, weights='distance')\n",
      "RandomForestClassifier()\n",
      "CPU times: user 33.2 s, sys: 376 ms, total: 33.6 s\n",
      "Wall time: 20.2 s\n"
     ]
    }
   ],
   "source": [
    "%%time\n",
    "results = []\n",
    "for model in models:\n",
    "    print(model)\n",
    "    res = cross_validation_dataframe(\n",
    "        model, \n",
    "        feature_sets,\n",
    "        graph_labels,\n",
    "        feature_sets\n",
    "    )\n",
    "    results.append(res)\n",
    "\n",
    "df_all = pd.concat( results )"
   ]
  },
  {
   "cell_type": "code",
   "execution_count": 40,
   "id": "4b382c82-7d7a-47f1-9a0d-19882b4ff557",
   "metadata": {},
   "outputs": [],
   "source": [
    "df = df_all"
   ]
  },
  {
   "cell_type": "markdown",
   "id": "4485dd79",
   "metadata": {},
   "source": [
    "Finally we plot the results. We'll make some good use of seaborn to get a good looking comparison out."
   ]
  },
  {
   "cell_type": "code",
   "execution_count": 41,
   "id": "12bcf2ac",
   "metadata": {},
   "outputs": [
    {
     "data": {
      "text/plain": [
       "<seaborn.axisgrid.FacetGrid at 0x7f6ea2719120>"
      ]
     },
     "execution_count": 41,
     "metadata": {},
     "output_type": "execute_result"
    },
    {
     "data": {
      "image/png": "[encoded data removed]",
      "text/plain": [
       "<Figure size 1600x800 with 2 Axes>"
      ]
     },
     "metadata": {},
     "output_type": "display_data"
    }
   ],
   "source": [
    "g = sns.catplot(\n",
    "    kind=\"swarm\", \n",
    "    x=\"Embedding\", \n",
    "    y=\"Accuracy\", \n",
    "    col=\"Model\",\n",
    "    col_wrap=2,\n",
    "    data=df, \n",
    "    height=8, \n",
    "    alpha=0.5,\n",
    "    zorder=1,\n",
    ")\n",
    "g.map_dataframe(\n",
    "    sns.pointplot, \n",
    "    x=\"Embedding\", \n",
    "    y=\"Accuracy\", \n",
    "    color=\"Model\", \n",
    "    data=df, \n",
    "    # height=6, \n",
    "    # aspect=1.3,\n",
    "    palette=\"dark\",\n",
    "    join=False,\n",
    "    order= order\n",
    "    ,\n",
    "    ci=\"sd\",\n",
    "    # zorder=2,\n",
    "    scale=0.9,\n",
    ")\n",
    "g.set_titles(col_template=\"{col_name}\")\n",
    "g.set_xticklabels(order)\n",
    "# g.savefig(\"figures/recipe_embedding_comparison_downstream_task.png\", facecolor=\"none\")"
   ]
  },
  {
   "cell_type": "code",
   "execution_count": null,
   "id": "be813f7a-3b15-4bbc-8d7b-1a1dae9555f9",
   "metadata": {},
   "outputs": [],
   "source": []
  },
  {
   "cell_type": "code",
   "execution_count": null,
   "id": "e060559c-5e4b-48a0-988c-0d3beee90ac4",
   "metadata": {},
   "outputs": [],
   "source": []
  },
  {
   "cell_type": "code",
   "execution_count": null,
   "id": "d5e39ec6-096d-4814-9d7e-c4b7f02f0608",
   "metadata": {},
   "outputs": [],
   "source": []
  },
  {
   "cell_type": "code",
   "execution_count": null,
   "id": "4039eb33-4190-4e44-82bd-ca9a030f550d",
   "metadata": {},
   "outputs": [],
   "source": []
  }
 ],
 "metadata": {
  "kernelspec": {
   "display_name": "hypergraph_simple",
   "language": "python",
   "name": "hypergraph_simple"
  },
  "language_info": {
   "codemirror_mode": {
    "name": "ipython",
    "version": 3
   },
   "file_extension": ".py",
   "mimetype": "text/x-python",
   "name": "python",
   "nbconvert_exporter": "python",
   "pygments_lexer": "ipython3",
   "version": "3.10.11"
  }
 },
 "nbformat": 4,
 "nbformat_minor": 5
}

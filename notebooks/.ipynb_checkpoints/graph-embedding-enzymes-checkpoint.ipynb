{
 "cells": [
  {
   "cell_type": "markdown",
   "id": "44ca61e4-9152-4d97-8c0b-a7c0599c263c",
   "metadata": {},
   "source": [
    "# Graph Embeddings\n",
    "\n",
    "What we are trying here for graph embedding is similar to what has been tried with the Wasserstein Weisfeiler-Lehman graph kernels. \n",
    "See https://arxiv.org/pdf/1906.01277v2.pdf.\n",
    "However, instead of using Weisfeiler-Lehman kernels for averaging the appropriate vectors at each node, we iteratively use Wasserstein vectorizations on vertex neighborhoods to generate a sequece of node vectors. \n",
    "\n",
    "## The data: ENZYMES. \n",
    "We have 600 small graphs. There is a vector associated to each node for all graphs - this vector is given in the dataset. We want to obtain a graph vector representation. The downstream task is enzyme/graph classification: 6 classes in this dataset. The classes are balanced: 100 graphs in each class.\n",
    "https://github.com/snap-stanford/GraphRNN/tree/master/dataset/ENZYMES\n",
    "https://paperswithcode.com/sota/graph-classification-on-enzymes\n",
    "\n",
    "We transform graphs into hypergraphs by representing each neighborhood by a hyperedge (we can include each node in its neighborhood or not). We get one hyperedge per node. These hyperedges are used to obtain new vertex vector representations (of the vertices' neighborhoods) using the Wasserstein vectorizer on all hyperedges or all graphs simultaneously. This process is then applied iteratively, using the same hyperedges but different vectors. At each iteration, we use the vertex vectors of the previous iteration. This process results in a sequence of vertex vectors that incorporate information about neighborhoods of larger radius each time: n1, n2, n3, ... \n",
    "\n",
    "For each vertex, we then concatenate its associated vectors to get a final vertex vector representatation. \n",
    "(n0)- vertex vector | n1-neighborhood vector | n2-neighborhood vector | ... \n",
    "\n",
    "Finally, we use these concatenated vertex vectors, one per vertex, to generate a graph representation via the Wasserstein vectorizer. "
   ]
  },
  {
   "cell_type": "markdown",
   "id": "cb3bfb81-3427-4e3b-ab10-6c6eb0f64d01",
   "metadata": {},
   "source": [
    "### Setup"
   ]
  },
  {
   "cell_type": "code",
   "execution_count": 277,
   "id": "432e30ac",
   "metadata": {},
   "outputs": [],
   "source": [
    "# from src import paths\n",
    "# from src.data import Dataset"
   ]
  },
  {
   "cell_type": "code",
   "execution_count": 317,
   "id": "98c21936",
   "metadata": {},
   "outputs": [],
   "source": [
    "import numpy as np\n",
    "import pandas as pd\n",
    "import matplotlib.pyplot as plt\n",
    "import sklearn.datasets\n",
    "import sklearn.feature_extraction.text\n",
    "import sklearn.preprocessing\n",
    "from sklearn.decomposition import TruncatedSVD\n",
    "from sklearn.preprocessing import normalize\n",
    "import scipy.sparse\n",
    "import vectorizers\n",
    "import vectorizers.transformers\n",
    "import umap\n",
    "import umap.plot\n",
    "import pynndescent\n",
    "import seaborn as sns\n",
    "import warnings\n",
    "import igraph as ig\n",
    "from scipy.sparse import vstack\n",
    "      \n",
    "warnings.simplefilter(\"ignore\")\n",
    "sns.set()"
   ]
  },
  {
   "cell_type": "code",
   "execution_count": 41,
   "id": "be843b07-9663-4101-8af4-a1faebc94fb4",
   "metadata": {},
   "outputs": [],
   "source": [
    "import os\n",
    "directory = '../data/ENZYMES/'\n",
    "all_filenames =  np.sort(os.listdir(directory))\n",
    "graph_filenames = [f'{directory}{x}' for x in all_filenames if x.endswith('.gml')]\n",
    "label_filename = f'{directory}Labels.txt'\n",
    "feature_filename = f'{directory}node_features.npy'"
   ]
  },
  {
   "cell_type": "code",
   "execution_count": 174,
   "id": "8590f14a-8f58-4d9c-bca3-47decb3f84e6",
   "metadata": {},
   "outputs": [],
   "source": [
    "graphs = [ig.read(fname) for fname in graph_filenames]\n",
    "\n",
    "# load node features for continuous graphs\n",
    "node_features = np.load(feature_filename, allow_pickle=True)\n",
    "\n",
    "with open(label_filename) as file:\n",
    "    graph_labels = np.array([line.rstrip() for line in file])"
   ]
  },
  {
   "cell_type": "code",
   "execution_count": 209,
   "id": "3f83b1b9-bc74-4910-a101-b2e4187a3b31",
   "metadata": {},
   "outputs": [],
   "source": [
    "vertex_vectors_0 = np.vstack(node_features)"
   ]
  },
  {
   "cell_type": "code",
   "execution_count": 210,
   "id": "3205bf08-a4d1-42b8-93ce-6f4591fe9ad7",
   "metadata": {},
   "outputs": [
    {
     "data": {
      "text/plain": [
       "(19474, 18)"
      ]
     },
     "execution_count": 210,
     "metadata": {},
     "output_type": "execute_result"
    }
   ],
   "source": [
    "vertex_vectors_0.shape"
   ]
  },
  {
   "cell_type": "code",
   "execution_count": 200,
   "id": "190b480a-31be-43fb-8f58-74428de34e6b",
   "metadata": {},
   "outputs": [
    {
     "name": "stdout",
     "output_type": "stream",
     "text": [
      "0 37 (37, 18)\n",
      "1 23 (23, 18)\n",
      "2 25 (25, 18)\n",
      "3 24 (24, 18)\n",
      "4 23 (23, 18)\n"
     ]
    }
   ],
   "source": [
    "for i in range(5):\n",
    "    print(i, graphs[i].vcount(), node_features[i].shape)"
   ]
  },
  {
   "cell_type": "markdown",
   "id": "5637ac15-9d8b-4e25-9e1b-d6fa6c2d2e96",
   "metadata": {},
   "source": [
    "# Data statistics"
   ]
  },
  {
   "cell_type": "code",
   "execution_count": 503,
   "id": "b4755b3c-944b-4d7f-b126-b26b28266c46",
   "metadata": {},
   "outputs": [
    {
     "data": {
      "text/plain": [
       "<Axes: ylabel='Count'>"
      ]
     },
     "execution_count": 503,
     "metadata": {},
     "output_type": "execute_result"
    },
    {
     "data": {
      "image/png": "[encoded data removed]",
      "text/plain": [
       "<Figure size 640x480 with 1 Axes>"
      ]
     },
     "metadata": {},
     "output_type": "display_data"
    }
   ],
   "source": [
    "sns.histplot(incidence_matrix.sum(axis=1))"
   ]
  },
  {
   "cell_type": "markdown",
   "id": "c4f65f92-5153-4575-beb4-0892dc588ad6",
   "metadata": {},
   "source": [
    "## Neighborhoods as hyperedges"
   ]
  },
  {
   "cell_type": "code",
   "execution_count": 201,
   "id": "f8fdde75-0e23-4b70-b867-5358bf710842",
   "metadata": {},
   "outputs": [],
   "source": [
    "# Egonet: include the node itself in its hyperedge\n",
    "hypergraphs = [[[str(int(g.vs[node_id]['id']))] + [str(int(x['id'])) for x in g.vs[node_id].neighbors()] for node_id in range(g.vcount())]for g in graphs]"
   ]
  },
  {
   "cell_type": "code",
   "execution_count": 202,
   "id": "c1cdc819-cb45-4da8-91d4-88f84ff05070",
   "metadata": {},
   "outputs": [],
   "source": [
    "hyperedges_all = [h for hgraph in hypergraphs for h in hgraph]"
   ]
  },
  {
   "cell_type": "code",
   "execution_count": 203,
   "id": "415edb80-b909-48b1-aeca-4aadc63ec8ac",
   "metadata": {},
   "outputs": [],
   "source": [
    "graphs_vertices = [[str(x) for x in list(np.sort([int(v['id']) for v in g.vs]))] for g in graphs]"
   ]
  },
  {
   "cell_type": "code",
   "execution_count": 253,
   "id": "bebf7631-a814-41e8-b936-5bffdf23f7b8",
   "metadata": {},
   "outputs": [],
   "source": [
    "vertex_names = list(np.hstack(graphs_vertices))\n",
    "vertex_names_dictionary = dict()\n",
    "for i, v in enumerate(vertex_names):\n",
    "    vertex_names_dictionary[v] = i\n",
    "    \n",
    "n_vertices = len(vertex_names_dictionary)"
   ]
  },
  {
   "cell_type": "markdown",
   "id": "515a766a",
   "metadata": {},
   "source": [
    "# Embed graphs as bags of vertex vectors (Wasserstein)"
   ]
  },
  {
   "cell_type": "code",
   "execution_count": 446,
   "id": "1409047e",
   "metadata": {},
   "outputs": [
    {
     "name": "stdout",
     "output_type": "stream",
     "text": [
      "CPU times: user 106 ms, sys: 3.93 ms, total: 110 ms\n",
      "Wall time: 108 ms\n"
     ]
    }
   ],
   "source": [
    "%%time\n",
    "incidence_vectorizer = vectorizers.NgramVectorizer(\n",
    "    token_dictionary=vertex_names_dictionary\n",
    ").fit(graphs_vertices)\n",
    "\n",
    "incidence_matrix = incidence_vectorizer.transform(graphs_vertices)"
   ]
  },
  {
   "cell_type": "code",
   "execution_count": 447,
   "id": "9f7e2aac-e352-4e08-a0f6-78bd5a2e06cb",
   "metadata": {},
   "outputs": [],
   "source": [
    "adjacency_vectorizer = vectorizers.NgramVectorizer(\n",
    "    token_dictionary=vertex_names_dictionary\n",
    ").fit(hyperedges_all)\n",
    "\n",
    "adjacency_matrix = adjacency_vectorizer.transform(hyperedges_all)"
   ]
  },
  {
   "cell_type": "code",
   "execution_count": 448,
   "id": "c911a244",
   "metadata": {},
   "outputs": [
    {
     "name": "stdout",
     "output_type": "stream",
     "text": [
      "CPU times: user 138 ms, sys: 4.3 ms, total: 142 ms\n",
      "Wall time: 5.74 ms\n"
     ]
    },
    {
     "data": {
      "text/plain": [
       "(600, 18)"
      ]
     },
     "execution_count": 448,
     "metadata": {},
     "output_type": "execute_result"
    }
   ],
   "source": [
    "%%time\n",
    "# n_components = vertex_vectors_0.shape[0]\n",
    "graph_awe_matrix_0 = vectorizers.ApproximateWassersteinVectorizer(\n",
    "    normalization_power=0.66,\n",
    "    # n_components=n_components,\n",
    "    random_state=42,\n",
    ").fit_transform(incidence_matrix, vectors=vertex_vectors_0)\n",
    "\n",
    "graph_awe_matrix_0.shape"
   ]
  },
  {
   "cell_type": "markdown",
   "id": "f421a61e-72cb-4af8-8c10-f34c3d993bc2",
   "metadata": {},
   "source": [
    "# Effect of vector normalization?"
   ]
  },
  {
   "cell_type": "code",
   "execution_count": 462,
   "id": "8e0387e8-0b05-419f-b3b7-de3a6692b3e4",
   "metadata": {},
   "outputs": [],
   "source": [
    "vertex_vectors_norm_0 = normalize(vertex_vectors_0, axis=1, norm='l1')\n",
    "\n",
    "graph_awe_matrix_norm_0 = vectorizers.ApproximateWassersteinVectorizer(\n",
    "    normalization_power=0.66,\n",
    "    # n_components=n_components,\n",
    "    random_state=42,\n",
    ").fit_transform(incidence_matrix, vectors=vertex_vectors_norm_0)"
   ]
  },
  {
   "cell_type": "markdown",
   "id": "139f3d9f-a7ad-49cd-8e21-7dc932c74a3b",
   "metadata": {},
   "source": [
    "# Iteratively embed vertices as bags (n1-neighborhoods) of vertices (via Wasserstein)"
   ]
  },
  {
   "cell_type": "code",
   "execution_count": 478,
   "id": "3b9cd7ba-11ab-48f9-a48f-d57ea23f943b",
   "metadata": {},
   "outputs": [],
   "source": [
    "vertex_awe_vectors = dict()\n",
    "graph_awe_matrix = dict()\n",
    "graph_awe_matrix_svd = dict()"
   ]
  },
  {
   "cell_type": "code",
   "execution_count": 479,
   "id": "69877e9b-19d3-410e-8f8b-524fb7764ac4",
   "metadata": {},
   "outputs": [],
   "source": [
    "number_iteration = 3"
   ]
  },
  {
   "cell_type": "code",
   "execution_count": 480,
   "id": "150caa77-dffb-4405-840d-9688be6cc102",
   "metadata": {},
   "outputs": [],
   "source": [
    "vertex_awe_vectors[0] = vertex_vectors_0\n",
    "graph_awe_matrix[0] = graph_awe_matrix_0"
   ]
  },
  {
   "cell_type": "code",
   "execution_count": 481,
   "id": "4a38cff1-df94-43ef-aa6c-725ebed81ded",
   "metadata": {},
   "outputs": [
    {
     "name": "stdout",
     "output_type": "stream",
     "text": [
      "Interation 1, shape of vector matrix (19474, 18), shape of graph matrix (600, 36)\n",
      "Interation 2, shape of vector matrix (19474, 18), shape of graph matrix (600, 54)\n"
     ]
    }
   ],
   "source": [
    "vertex_awe_vectors[0] = normalize(vertex_awe_vectors[0], axis=1, norm='l1')\n",
    "# n_components = vertex_awe_vectors[0].shape[1]\n",
    "svd = TruncatedSVD(n_components=n_components)\n",
    "\n",
    "for i in range(1,number_iteration):\n",
    "    vertex_awe_vectors[i] = vectorizers.ApproximateWassersteinVectorizer(\n",
    "        normalization_power=0.66,\n",
    "        random_state=42,\n",
    "        # n_components=n_components\n",
    "    ).fit_transform(adjacency_matrix, vectors=vertex_awe_vectors[i-1])\n",
    "\n",
    "\n",
    "    vertex_awe_vectors[i] = normalize(vertex_awe_vectors[i], axis=1, norm='l1')\n",
    "\n",
    "    graph_awe_matrix[i] = vectorizers.ApproximateWassersteinVectorizer(\n",
    "        random_state=42,\n",
    "        # n_components=n_components,\n",
    "        normalization_power=0.66,\n",
    "    ).fit_transform(incidence_matrix, \n",
    "                    vectors=np.hstack([vertex_awe_vectors[i] for j in range(i+1)])\n",
    "                   )\n",
    "    \n",
    "    graph_awe_matrix_svd[i] = svd.fit_transform(graph_awe_matrix[i])\n",
    "    \n",
    "    print(f'Interation {i}, shape of vector matrix {vertex_awe_vectors[i].shape}, shape of graph matrix {graph_awe_matrix[i].shape}')"
   ]
  },
  {
   "cell_type": "code",
   "execution_count": 482,
   "id": "fec69564-f55b-4669-9ce1-d415fbd6709b",
   "metadata": {},
   "outputs": [],
   "source": [
    "vector_df = pd.DataFrame()\n",
    "vector_df['groups'] = np.hstack(np.array([i]*vertex_awe_vectors[i].shape[0]) for i in range(number_iteration))\n",
    "vector_df['lengths'] = np.hstack(np.linalg.norm(vertex_awe_vectors[i], axis=1, ord=1) for i in range(number_iteration))"
   ]
  },
  {
   "cell_type": "code",
   "execution_count": 483,
   "id": "681a0c8a-48a3-47a4-b9e6-bd28d21b8382",
   "metadata": {},
   "outputs": [
    {
     "data": {
      "text/plain": [
       "<seaborn.axisgrid.FacetGrid at 0x7f6c0121e5f0>"
      ]
     },
     "execution_count": 483,
     "metadata": {},
     "output_type": "execute_result"
    },
    {
     "data": {
      "image/png": "[encoded data removed]",
      "text/plain": [
       "<Figure size 500x500 with 1 Axes>"
      ]
     },
     "metadata": {},
     "output_type": "display_data"
    }
   ],
   "source": [
    "sns.catplot(data=vector_df[vector_df.groups>-1], x='groups', y='lengths')"
   ]
  },
  {
   "cell_type": "markdown",
   "id": "f2b05a67",
   "metadata": {},
   "source": [
    "# Downstream Task Comparison\n",
    "\n",
    "Let's see how that does on the classification task"
   ]
  },
  {
   "cell_type": "markdown",
   "id": "34165bb6",
   "metadata": {},
   "source": [
    "Currently, there is no use of using TF-IDF or info-gain as each node appears only once. If we were to use the vector representation of nodes, we could use a continuous version of info gain... not sure how to do this."
   ]
  },
  {
   "cell_type": "code",
   "execution_count": 455,
   "id": "1be6a6ca",
   "metadata": {},
   "outputs": [],
   "source": [
    "import sklearn.model_selection\n",
    "import sklearn.ensemble\n",
    "import sklearn.linear_model\n",
    "import sklearn.neural_network\n",
    "import sklearn.neighbors\n",
    "\n",
    "from sklearn.experimental import enable_hist_gradient_boosting"
   ]
  },
  {
   "cell_type": "code",
   "execution_count": 456,
   "id": "14f7dcc1",
   "metadata": {},
   "outputs": [],
   "source": [
    "def cross_validate(model, data, labels, n_splits=20, test_ratio=0.1, random_seed=42):\n",
    "    splitter = sklearn.model_selection.ShuffleSplit(\n",
    "        n_splits=n_splits, test_size=test_ratio, random_state=random_seed\n",
    "    )\n",
    "    result = sklearn.model_selection.cross_val_score(model, data, labels, cv=splitter)\n",
    "    return result\n",
    "\n",
    "def cross_validation_dataframe(model, data, labels, n_splits=20, test_ratio=0.1, random_seed=42):\n",
    "    dfs = []\n",
    "    for feature_space_name, feature_space in feature_sets.items():\n",
    "        cv_scores = cross_validate(model, feature_space, labels, n_splits, test_ratio, random_seed)\n",
    "        feature_df = pd.DataFrame(\n",
    "            {\n",
    "                \"run\" : np.arange(n_splits), \n",
    "                \"Embedding\" : feature_space_name,\n",
    "                \"Model\" : model.__repr__().split(\"(\")[0],\n",
    "                \"Accuracy\" : cv_scores,\n",
    "            }\n",
    "        )\n",
    "        dfs.append(feature_df)\n",
    "    return pd.concat(dfs)"
   ]
  },
  {
   "cell_type": "markdown",
   "id": "948e3508-ae61-4634-91b2-82c9bf86310a",
   "metadata": {},
   "source": [
    "## Normalization effect on downstream task"
   ]
  },
  {
   "cell_type": "code",
   "execution_count": 459,
   "id": "aef1d25c-4a5c-447b-83e2-6e3dd6854e0d",
   "metadata": {},
   "outputs": [
    {
     "data": {
      "text/plain": [
       "Counter({'6': 100, '5': 100, '1': 100, '2': 100, '3': 100, '4': 100})"
      ]
     },
     "execution_count": 459,
     "metadata": {},
     "output_type": "execute_result"
    }
   ],
   "source": [
    "from collections import Counter\n",
    "Counter(graph_labels)"
   ]
  },
  {
   "cell_type": "code",
   "execution_count": 465,
   "id": "c0474ae7-1bd3-4737-9c2d-052d7fc7ff12",
   "metadata": {},
   "outputs": [],
   "source": [
    "models_norm = [\n",
    "    sklearn.neighbors.KNeighborsClassifier(metric=\"cosine\", n_neighbors=10, weights=\"distance\"),\n",
    "    # sklearn.ensemble.HistGradientBoostingClassifier(),\n",
    "    sklearn.ensemble.RandomForestClassifier(),\n",
    "    # sklearn.neural_network.MLPClassifier(hidden_layer_sizes=(100, 80, 40))\n",
    "]\n",
    "feature_sets_norm = {\n",
    "    \"Wasserstein original\": graph_awe_matrix_0,\n",
    "    \"Wasserstein normalized\":  graph_awe_matrix_norm_0\n",
    "}"
   ]
  },
  {
   "cell_type": "code",
   "execution_count": 467,
   "id": "7d6a82e4-999b-4adf-99c4-b3e29c131b6b",
   "metadata": {},
   "outputs": [
    {
     "name": "stdout",
     "output_type": "stream",
     "text": [
      "KNeighborsClassifier(metric='cosine', n_neighbors=10, weights='distance')\n",
      "RandomForestClassifier()\n",
      "CPU times: user 16.2 s, sys: 297 ms, total: 16.5 s\n",
      "Wall time: 7.44 s\n"
     ]
    }
   ],
   "source": [
    "%%time\n",
    "results_norm = []\n",
    "for model in models_norm:\n",
    "    print(model)\n",
    "    res = cross_validation_dataframe(\n",
    "        model, \n",
    "        feature_sets_norm,\n",
    "        graph_labels,\n",
    "    )\n",
    "    results_norm.append(res)\n",
    "\n",
    "df_norm = pd.concat( results_norm )"
   ]
  },
  {
   "cell_type": "code",
   "execution_count": 468,
   "id": "d493d156-21c1-4baa-bb95-d43fe60f6b79",
   "metadata": {},
   "outputs": [
    {
     "data": {
      "text/plain": [
       "<seaborn.axisgrid.FacetGrid at 0x7f6c0135e830>"
      ]
     },
     "execution_count": 468,
     "metadata": {},
     "output_type": "execute_result"
    },
    {
     "data": {
      "image/png": "[encoded data removed]",
      "text/plain": [
       "<Figure size 1600x800 with 2 Axes>"
      ]
     },
     "metadata": {},
     "output_type": "display_data"
    }
   ],
   "source": [
    "g = sns.catplot(\n",
    "    kind=\"swarm\", \n",
    "    x=\"Embedding\", \n",
    "    y=\"Accuracy\", \n",
    "    col=\"Model\",\n",
    "    col_wrap=2,\n",
    "    data=df_norm, \n",
    "    height=8, \n",
    "    alpha=0.5,\n",
    "    zorder=1,\n",
    ")\n",
    "g.map_dataframe(\n",
    "    sns.pointplot, \n",
    "    x=\"Embedding\", \n",
    "    y=\"Accuracy\", \n",
    "    color=\"Model\", \n",
    "    data=df_norm, \n",
    "    # height=6, \n",
    "    # aspect=1.3,\n",
    "    palette=\"dark\",\n",
    "    join=False,\n",
    "    order=[\n",
    "        \"Wasserstein original\",\n",
    "        \"Wasserstein normalized\"\n",
    "    ],\n",
    "    ci=\"sd\",\n",
    "    # zorder=2,\n",
    "    scale=0.9,\n",
    ")\n",
    "g.set_titles(col_template=\"{col_name}\")\n",
    "g.set_xticklabels([\n",
    "        \"Wasserstein original\",\n",
    "        \"Wasserstein normalized\"\n",
    "    ])"
   ]
  },
  {
   "cell_type": "markdown",
   "id": "7f0c5645-00de-4b64-93df-9d1c303e18d1",
   "metadata": {},
   "source": [
    "## Neighborhood vectors on downstream task"
   ]
  },
  {
   "cell_type": "code",
   "execution_count": 497,
   "id": "f98c7438",
   "metadata": {},
   "outputs": [],
   "source": [
    "models = [\n",
    "    sklearn.neighbors.KNeighborsClassifier(metric=\"cosine\", n_neighbors=10, weights=\"distance\"),\n",
    "    # sklearn.ensemble.HistGradientBoostingClassifier(),\n",
    "    sklearn.ensemble.RandomForestClassifier(),\n",
    "    # sklearn.neural_network.MLPClassifier(hidden_layer_sizes=(100, 80, 40))\n",
    "]\n",
    "feature_sets = {\n",
    "    f\"AW {i}-times \": graph_awe_matrix[i] for i in range(number_iteration)\n",
    "}\n",
    "feature_sets.update({\n",
    "    f\"AW-svd {i}-times \": graph_awe_matrix_svd[i] for i in range(1, number_iteration)\n",
    "})\n",
    "\n",
    "order = [\n",
    "        f\"AW {i}-times \" for i in range(number_iteration)\n",
    "    ] + [\n",
    "        f\"AW-svd {i}-times \" for i in range(1, number_iteration)\n",
    "    ]"
   ]
  },
  {
   "cell_type": "markdown",
   "id": "727d1bcf",
   "metadata": {},
   "source": [
    "Now we reun the cross validation across all the models and all the feature sets. Be forewarned if you run this, it will take quite a while."
   ]
  },
  {
   "cell_type": "code",
   "execution_count": 494,
   "id": "19de522c-ab87-4dc3-8554-43d7f217c143",
   "metadata": {},
   "outputs": [
    {
     "name": "stdout",
     "output_type": "stream",
     "text": [
      "KNeighborsClassifier(metric='cosine', n_neighbors=10, weights='distance')\n",
      "RandomForestClassifier()\n",
      "CPU times: user 33.2 s, sys: 385 ms, total: 33.5 s\n",
      "Wall time: 19.8 s\n"
     ]
    }
   ],
   "source": [
    "%%time\n",
    "results = []\n",
    "for model in models:\n",
    "    print(model)\n",
    "    res = cross_validation_dataframe(\n",
    "        model, \n",
    "        feature_sets,\n",
    "        graph_labels,\n",
    "    )\n",
    "    results.append(res)\n",
    "\n",
    "df_all = pd.concat( results )"
   ]
  },
  {
   "cell_type": "code",
   "execution_count": 495,
   "id": "4b382c82-7d7a-47f1-9a0d-19882b4ff557",
   "metadata": {},
   "outputs": [],
   "source": [
    "df = df_all"
   ]
  },
  {
   "cell_type": "markdown",
   "id": "4485dd79",
   "metadata": {},
   "source": [
    "Finally we plot the results. We'll make some good use of seaborn to get a good looking comparison out."
   ]
  },
  {
   "cell_type": "code",
   "execution_count": 498,
   "id": "12bcf2ac",
   "metadata": {},
   "outputs": [
    {
     "data": {
      "text/plain": [
       "<seaborn.axisgrid.FacetGrid at 0x7f6c053a38b0>"
      ]
     },
     "execution_count": 498,
     "metadata": {},
     "output_type": "execute_result"
    },
    {
     "data": {
      "image/png": "[encoded data removed]",
      "text/plain": [
       "<Figure size 1600x800 with 2 Axes>"
      ]
     },
     "metadata": {},
     "output_type": "display_data"
    }
   ],
   "source": [
    "g = sns.catplot(\n",
    "    kind=\"swarm\", \n",
    "    x=\"Embedding\", \n",
    "    y=\"Accuracy\", \n",
    "    col=\"Model\",\n",
    "    col_wrap=2,\n",
    "    data=df, \n",
    "    height=8, \n",
    "    alpha=0.5,\n",
    "    zorder=1,\n",
    ")\n",
    "g.map_dataframe(\n",
    "    sns.pointplot, \n",
    "    x=\"Embedding\", \n",
    "    y=\"Accuracy\", \n",
    "    color=\"Model\", \n",
    "    data=df, \n",
    "    # height=6, \n",
    "    # aspect=1.3,\n",
    "    palette=\"dark\",\n",
    "    join=False,\n",
    "    order= order\n",
    "    ,\n",
    "    ci=\"sd\",\n",
    "    # zorder=2,\n",
    "    scale=0.9,\n",
    ")\n",
    "g.set_titles(col_template=\"{col_name}\")\n",
    "g.set_xticklabels(order)\n",
    "# g.savefig(\"figures/recipe_embedding_comparison_downstream_task.png\", facecolor=\"none\")"
   ]
  },
  {
   "cell_type": "code",
   "execution_count": null,
   "id": "be813f7a-3b15-4bbc-8d7b-1a1dae9555f9",
   "metadata": {},
   "outputs": [],
   "source": []
  },
  {
   "attachments": {
    "588ffce4-bedd-4761-8d3a-2c004e3b5d26.png": {
     "image/png": "[encoded data removed]"
    }
   },
   "cell_type": "markdown",
   "id": "9a53e63f-f665-4c16-a81a-71cee0fcfee5",
   "metadata": {},
   "source": [
    "It seems like the neighborhoods do not bring \n",
    "\n",
    "The results found in https://arxiv.org/pdf/1906.01277v2.pdf\n",
    "\n",
    "![image.png](attachment:588ffce4-bedd-4761-8d3a-2c004e3b5d26.png)\n",
    "\n",
    "The leaderboard found at https://paperswithcode.com/sota/graph-classification-on-enzymes"
   ]
  },
  {
   "cell_type": "code",
   "execution_count": null,
   "id": "e060559c-5e4b-48a0-988c-0d3beee90ac4",
   "metadata": {},
   "outputs": [],
   "source": []
  },
  {
   "cell_type": "code",
   "execution_count": 502,
   "id": "d5e39ec6-096d-4814-9d7e-c4b7f02f0608",
   "metadata": {},
   "outputs": [
    {
     "data": {
      "text/plain": [
       "matrix([[ 37.],\n",
       "        [ 23.],\n",
       "        [ 25.],\n",
       "        [ 24.],\n",
       "        [ 23.],\n",
       "        [ 24.],\n",
       "        [ 26.],\n",
       "        [ 88.],\n",
       "        [ 23.],\n",
       "        [ 32.],\n",
       "        [  4.],\n",
       "        [ 14.],\n",
       "        [ 42.],\n",
       "        [ 41.],\n",
       "        [ 36.],\n",
       "        [ 55.],\n",
       "        [ 40.],\n",
       "        [ 38.],\n",
       "        [  2.],\n",
       "        [ 35.],\n",
       "        [ 42.],\n",
       "        [ 41.],\n",
       "        [ 39.],\n",
       "        [ 42.],\n",
       "        [ 41.],\n",
       "        [ 40.],\n",
       "        [ 37.],\n",
       "        [ 23.],\n",
       "        [ 22.],\n",
       "        [ 34.],\n",
       "        [ 38.],\n",
       "        [ 38.],\n",
       "        [ 39.],\n",
       "        [  8.],\n",
       "        [ 23.],\n",
       "        [ 42.],\n",
       "        [ 42.],\n",
       "        [ 28.],\n",
       "        [ 24.],\n",
       "        [ 24.],\n",
       "        [ 47.],\n",
       "        [ 45.],\n",
       "        [ 45.],\n",
       "        [ 45.],\n",
       "        [ 46.],\n",
       "        [ 44.],\n",
       "        [ 30.],\n",
       "        [ 32.],\n",
       "        [ 33.],\n",
       "        [  9.],\n",
       "        [ 27.],\n",
       "        [ 39.],\n",
       "        [ 16.],\n",
       "        [ 18.],\n",
       "        [  7.],\n",
       "        [ 18.],\n",
       "        [ 10.],\n",
       "        [ 21.],\n",
       "        [ 18.],\n",
       "        [ 10.],\n",
       "        [  9.],\n",
       "        [ 39.],\n",
       "        [ 33.],\n",
       "        [ 29.],\n",
       "        [ 24.],\n",
       "        [ 25.],\n",
       "        [ 30.],\n",
       "        [ 38.],\n",
       "        [ 28.],\n",
       "        [ 28.],\n",
       "        [ 38.],\n",
       "        [ 40.],\n",
       "        [ 40.],\n",
       "        [ 42.],\n",
       "        [ 20.],\n",
       "        [ 19.],\n",
       "        [ 16.],\n",
       "        [ 17.],\n",
       "        [ 20.],\n",
       "        [ 18.],\n",
       "        [ 33.],\n",
       "        [ 23.],\n",
       "        [ 23.],\n",
       "        [ 35.],\n",
       "        [ 33.],\n",
       "        [ 39.],\n",
       "        [ 40.],\n",
       "        [ 38.],\n",
       "        [ 40.],\n",
       "        [ 38.],\n",
       "        [ 37.],\n",
       "        [ 36.],\n",
       "        [ 34.],\n",
       "        [ 34.],\n",
       "        [ 32.],\n",
       "        [ 18.],\n",
       "        [ 32.],\n",
       "        [ 34.],\n",
       "        [ 30.],\n",
       "        [  5.],\n",
       "        [ 45.],\n",
       "        [ 42.],\n",
       "        [ 59.],\n",
       "        [ 32.],\n",
       "        [ 33.],\n",
       "        [ 17.],\n",
       "        [ 39.],\n",
       "        [ 38.],\n",
       "        [ 35.],\n",
       "        [ 16.],\n",
       "        [ 26.],\n",
       "        [ 51.],\n",
       "        [ 52.],\n",
       "        [ 25.],\n",
       "        [ 27.],\n",
       "        [ 42.],\n",
       "        [ 46.],\n",
       "        [ 95.],\n",
       "        [ 12.],\n",
       "        [ 22.],\n",
       "        [ 42.],\n",
       "        [ 14.],\n",
       "        [ 90.],\n",
       "        [ 14.],\n",
       "        [ 14.],\n",
       "        [ 32.],\n",
       "        [ 11.],\n",
       "        [ 26.],\n",
       "        [ 11.],\n",
       "        [ 14.],\n",
       "        [ 18.],\n",
       "        [ 16.],\n",
       "        [ 17.],\n",
       "        [ 32.],\n",
       "        [ 13.],\n",
       "        [  3.],\n",
       "        [ 22.],\n",
       "        [ 16.],\n",
       "        [ 38.],\n",
       "        [ 13.],\n",
       "        [ 12.],\n",
       "        [ 14.],\n",
       "        [ 39.],\n",
       "        [ 19.],\n",
       "        [ 20.],\n",
       "        [ 39.],\n",
       "        [ 40.],\n",
       "        [ 39.],\n",
       "        [ 39.],\n",
       "        [ 29.],\n",
       "        [ 22.],\n",
       "        [ 11.],\n",
       "        [  8.],\n",
       "        [ 13.],\n",
       "        [ 18.],\n",
       "        [ 12.],\n",
       "        [  8.],\n",
       "        [ 40.],\n",
       "        [ 12.],\n",
       "        [ 22.],\n",
       "        [ 22.],\n",
       "        [ 18.],\n",
       "        [ 12.],\n",
       "        [ 17.],\n",
       "        [ 14.],\n",
       "        [ 22.],\n",
       "        [ 43.],\n",
       "        [ 42.],\n",
       "        [ 44.],\n",
       "        [ 24.],\n",
       "        [ 48.],\n",
       "        [ 25.],\n",
       "        [ 46.],\n",
       "        [ 48.],\n",
       "        [ 25.],\n",
       "        [ 48.],\n",
       "        [ 44.],\n",
       "        [ 42.],\n",
       "        [ 40.],\n",
       "        [ 38.],\n",
       "        [ 40.],\n",
       "        [ 41.],\n",
       "        [ 42.],\n",
       "        [ 40.],\n",
       "        [ 44.],\n",
       "        [ 24.],\n",
       "        [ 44.],\n",
       "        [ 20.],\n",
       "        [ 42.],\n",
       "        [ 27.],\n",
       "        [ 48.],\n",
       "        [ 31.],\n",
       "        [ 30.],\n",
       "        [ 46.],\n",
       "        [ 47.],\n",
       "        [ 50.],\n",
       "        [ 40.],\n",
       "        [ 55.],\n",
       "        [ 62.],\n",
       "        [ 34.],\n",
       "        [ 29.],\n",
       "        [ 25.],\n",
       "        [ 56.],\n",
       "        [ 57.],\n",
       "        [ 27.],\n",
       "        [ 22.],\n",
       "        [ 24.],\n",
       "        [ 23.],\n",
       "        [ 57.],\n",
       "        [ 24.],\n",
       "        [ 24.],\n",
       "        [ 23.],\n",
       "        [ 25.],\n",
       "        [ 23.],\n",
       "        [ 48.],\n",
       "        [ 27.],\n",
       "        [ 15.],\n",
       "        [ 44.],\n",
       "        [ 29.],\n",
       "        [ 21.],\n",
       "        [ 34.],\n",
       "        [ 30.],\n",
       "        [ 40.],\n",
       "        [ 54.],\n",
       "        [ 18.],\n",
       "        [ 36.],\n",
       "        [ 37.],\n",
       "        [ 34.],\n",
       "        [ 23.],\n",
       "        [ 32.],\n",
       "        [ 33.],\n",
       "        [ 29.],\n",
       "        [ 39.],\n",
       "        [ 34.],\n",
       "        [ 36.],\n",
       "        [ 21.],\n",
       "        [  6.],\n",
       "        [ 22.],\n",
       "        [ 18.],\n",
       "        [ 18.],\n",
       "        [ 34.],\n",
       "        [ 32.],\n",
       "        [ 33.],\n",
       "        [ 28.],\n",
       "        [ 40.],\n",
       "        [ 42.],\n",
       "        [ 39.],\n",
       "        [ 28.],\n",
       "        [ 29.],\n",
       "        [ 30.],\n",
       "        [ 14.],\n",
       "        [ 32.],\n",
       "        [ 35.],\n",
       "        [ 24.],\n",
       "        [ 17.],\n",
       "        [ 18.],\n",
       "        [ 16.],\n",
       "        [ 19.],\n",
       "        [ 19.],\n",
       "        [ 21.],\n",
       "        [ 23.],\n",
       "        [ 25.],\n",
       "        [ 27.],\n",
       "        [ 24.],\n",
       "        [ 24.],\n",
       "        [ 32.],\n",
       "        [ 31.],\n",
       "        [ 33.],\n",
       "        [ 34.],\n",
       "        [ 32.],\n",
       "        [ 32.],\n",
       "        [ 44.],\n",
       "        [ 40.],\n",
       "        [ 40.],\n",
       "        [ 38.],\n",
       "        [ 30.],\n",
       "        [ 38.],\n",
       "        [ 44.],\n",
       "        [ 60.],\n",
       "        [ 28.],\n",
       "        [ 16.],\n",
       "        [ 50.],\n",
       "        [ 52.],\n",
       "        [ 48.],\n",
       "        [ 50.],\n",
       "        [ 42.],\n",
       "        [ 43.],\n",
       "        [ 41.],\n",
       "        [ 39.],\n",
       "        [ 38.],\n",
       "        [ 62.],\n",
       "        [ 60.],\n",
       "        [ 96.],\n",
       "        [ 54.],\n",
       "        [123.],\n",
       "        [125.],\n",
       "        [121.],\n",
       "        [ 24.],\n",
       "        [ 41.],\n",
       "        [ 49.],\n",
       "        [ 44.],\n",
       "        [ 42.],\n",
       "        [ 41.],\n",
       "        [ 42.],\n",
       "        [ 46.],\n",
       "        [ 55.],\n",
       "        [ 50.],\n",
       "        [ 42.],\n",
       "        [ 48.],\n",
       "        [ 51.],\n",
       "        [ 24.],\n",
       "        [ 51.],\n",
       "        [ 52.],\n",
       "        [ 22.],\n",
       "        [ 44.],\n",
       "        [ 44.],\n",
       "        [ 31.],\n",
       "        [ 27.],\n",
       "        [ 25.],\n",
       "        [ 38.],\n",
       "        [ 21.],\n",
       "        [ 29.],\n",
       "        [ 20.],\n",
       "        [ 21.],\n",
       "        [ 50.],\n",
       "        [ 46.],\n",
       "        [ 49.],\n",
       "        [ 27.],\n",
       "        [ 12.],\n",
       "        [ 14.],\n",
       "        [ 23.],\n",
       "        [ 24.],\n",
       "        [ 33.],\n",
       "        [ 27.],\n",
       "        [ 25.],\n",
       "        [ 28.],\n",
       "        [ 28.],\n",
       "        [ 12.],\n",
       "        [ 26.],\n",
       "        [ 28.],\n",
       "        [ 28.],\n",
       "        [ 26.],\n",
       "        [ 24.],\n",
       "        [ 23.],\n",
       "        [ 27.],\n",
       "        [ 39.],\n",
       "        [ 42.],\n",
       "        [ 42.],\n",
       "        [ 64.],\n",
       "        [ 38.],\n",
       "        [ 22.],\n",
       "        [  9.],\n",
       "        [ 26.],\n",
       "        [ 19.],\n",
       "        [ 66.],\n",
       "        [ 27.],\n",
       "        [ 34.],\n",
       "        [ 28.],\n",
       "        [ 26.],\n",
       "        [ 26.],\n",
       "        [ 28.],\n",
       "        [ 19.],\n",
       "        [ 20.],\n",
       "        [ 20.],\n",
       "        [ 42.],\n",
       "        [ 42.],\n",
       "        [ 15.],\n",
       "        [ 11.],\n",
       "        [ 10.],\n",
       "        [ 12.],\n",
       "        [ 30.],\n",
       "        [ 15.],\n",
       "        [ 10.],\n",
       "        [ 18.],\n",
       "        [ 22.],\n",
       "        [ 12.],\n",
       "        [ 36.],\n",
       "        [ 30.],\n",
       "        [ 30.],\n",
       "        [ 36.],\n",
       "        [ 33.],\n",
       "        [ 48.],\n",
       "        [ 27.],\n",
       "        [ 27.],\n",
       "        [ 16.],\n",
       "        [  7.],\n",
       "        [ 16.],\n",
       "        [ 35.],\n",
       "        [ 28.],\n",
       "        [ 40.],\n",
       "        [ 26.],\n",
       "        [ 48.],\n",
       "        [ 15.],\n",
       "        [ 11.],\n",
       "        [ 50.],\n",
       "        [ 18.],\n",
       "        [ 19.],\n",
       "        [ 14.],\n",
       "        [ 21.],\n",
       "        [ 37.],\n",
       "        [ 48.],\n",
       "        [ 25.],\n",
       "        [ 28.],\n",
       "        [ 33.],\n",
       "        [ 29.],\n",
       "        [ 33.],\n",
       "        [ 30.],\n",
       "        [ 33.],\n",
       "        [ 32.],\n",
       "        [ 28.],\n",
       "        [ 37.],\n",
       "        [ 36.],\n",
       "        [ 38.],\n",
       "        [ 37.],\n",
       "        [ 34.],\n",
       "        [ 24.],\n",
       "        [ 25.],\n",
       "        [ 41.],\n",
       "        [ 27.],\n",
       "        [ 26.],\n",
       "        [ 25.],\n",
       "        [ 27.],\n",
       "        [ 20.],\n",
       "        [ 40.],\n",
       "        [ 21.],\n",
       "        [ 19.],\n",
       "        [ 36.],\n",
       "        [ 32.],\n",
       "        [ 28.],\n",
       "        [ 37.],\n",
       "        [ 18.],\n",
       "        [ 19.],\n",
       "        [ 22.],\n",
       "        [ 43.],\n",
       "        [ 24.],\n",
       "        [ 15.],\n",
       "        [ 14.],\n",
       "        [ 48.],\n",
       "        [ 46.],\n",
       "        [ 26.],\n",
       "        [ 25.],\n",
       "        [ 44.],\n",
       "        [ 39.],\n",
       "        [ 39.],\n",
       "        [ 27.],\n",
       "        [ 26.],\n",
       "        [ 25.],\n",
       "        [ 39.],\n",
       "        [ 26.],\n",
       "        [ 26.],\n",
       "        [ 26.],\n",
       "        [ 34.],\n",
       "        [ 20.],\n",
       "        [ 20.],\n",
       "        [ 19.],\n",
       "        [ 18.],\n",
       "        [ 33.],\n",
       "        [ 15.],\n",
       "        [ 34.],\n",
       "        [ 28.],\n",
       "        [ 34.],\n",
       "        [ 15.],\n",
       "        [ 14.],\n",
       "        [ 20.],\n",
       "        [ 52.],\n",
       "        [ 20.],\n",
       "        [ 20.],\n",
       "        [ 20.],\n",
       "        [ 17.],\n",
       "        [ 12.],\n",
       "        [ 24.],\n",
       "        [ 46.],\n",
       "        [ 13.],\n",
       "        [ 24.],\n",
       "        [ 12.],\n",
       "        [ 12.],\n",
       "        [ 14.],\n",
       "        [ 20.],\n",
       "        [ 28.],\n",
       "        [ 24.],\n",
       "        [ 12.],\n",
       "        [ 26.],\n",
       "        [ 22.],\n",
       "        [ 60.],\n",
       "        [ 39.],\n",
       "        [ 26.],\n",
       "        [ 15.],\n",
       "        [ 25.],\n",
       "        [ 35.],\n",
       "        [ 35.],\n",
       "        [ 38.],\n",
       "        [ 38.],\n",
       "        [ 33.],\n",
       "        [ 32.],\n",
       "        [ 42.],\n",
       "        [ 42.],\n",
       "        [ 41.],\n",
       "        [ 40.],\n",
       "        [ 38.],\n",
       "        [ 43.],\n",
       "        [ 66.],\n",
       "        [ 36.],\n",
       "        [ 46.],\n",
       "        [ 66.],\n",
       "        [ 21.],\n",
       "        [ 22.],\n",
       "        [ 21.],\n",
       "        [ 21.],\n",
       "        [ 41.],\n",
       "        [ 29.],\n",
       "        [ 30.],\n",
       "        [ 30.],\n",
       "        [ 41.],\n",
       "        [ 37.],\n",
       "        [ 26.],\n",
       "        [ 37.],\n",
       "        [ 50.],\n",
       "        [ 27.],\n",
       "        [ 34.],\n",
       "        [ 32.],\n",
       "        [ 35.],\n",
       "        [ 37.],\n",
       "        [ 48.],\n",
       "        [ 41.],\n",
       "        [ 29.],\n",
       "        [ 58.],\n",
       "        [ 57.],\n",
       "        [ 21.],\n",
       "        [ 18.],\n",
       "        [ 42.],\n",
       "        [ 40.],\n",
       "        [ 74.],\n",
       "        [ 44.],\n",
       "        [ 44.],\n",
       "        [ 40.],\n",
       "        [ 44.],\n",
       "        [ 42.],\n",
       "        [ 43.],\n",
       "        [ 41.],\n",
       "        [ 49.],\n",
       "        [ 56.],\n",
       "        [ 44.],\n",
       "        [ 42.],\n",
       "        [ 41.],\n",
       "        [ 41.],\n",
       "        [ 44.],\n",
       "        [ 39.],\n",
       "        [ 25.],\n",
       "        [ 25.],\n",
       "        [ 26.],\n",
       "        [ 52.],\n",
       "        [ 41.],\n",
       "        [ 45.],\n",
       "        [ 31.],\n",
       "        [ 26.],\n",
       "        [ 26.],\n",
       "        [ 52.],\n",
       "        [ 50.],\n",
       "        [ 38.],\n",
       "        [ 37.],\n",
       "        [ 27.],\n",
       "        [ 29.],\n",
       "        [ 48.],\n",
       "        [ 40.],\n",
       "        [ 19.],\n",
       "        [ 14.],\n",
       "        [ 13.],\n",
       "        [ 13.],\n",
       "        [ 44.],\n",
       "        [ 45.],\n",
       "        [ 46.],\n",
       "        [ 47.],\n",
       "        [ 47.],\n",
       "        [ 42.],\n",
       "        [ 51.],\n",
       "        [ 27.],\n",
       "        [ 27.],\n",
       "        [ 60.],\n",
       "        [ 28.],\n",
       "        [ 38.],\n",
       "        [ 23.],\n",
       "        [ 18.],\n",
       "        [ 45.],\n",
       "        [ 21.],\n",
       "        [ 35.],\n",
       "        [ 24.],\n",
       "        [ 21.],\n",
       "        [ 21.],\n",
       "        [ 31.],\n",
       "        [ 27.],\n",
       "        [ 51.],\n",
       "        [ 36.],\n",
       "        [ 46.],\n",
       "        [ 52.],\n",
       "        [ 44.],\n",
       "        [ 45.],\n",
       "        [ 52.],\n",
       "        [ 55.],\n",
       "        [ 51.],\n",
       "        [ 47.]], dtype=float32)"
      ]
     },
     "execution_count": 502,
     "metadata": {},
     "output_type": "execute_result"
    }
   ],
   "source": []
  },
  {
   "cell_type": "code",
   "execution_count": null,
   "id": "4039eb33-4190-4e44-82bd-ca9a030f550d",
   "metadata": {},
   "outputs": [],
   "source": []
  }
 ],
 "metadata": {
  "kernelspec": {
   "display_name": "hypergraph_simple",
   "language": "python",
   "name": "hypergraph_simple"
  },
  "language_info": {
   "codemirror_mode": {
    "name": "ipython",
    "version": 3
   },
   "file_extension": ".py",
   "mimetype": "text/x-python",
   "name": "python",
   "nbconvert_exporter": "python",
   "pygments_lexer": "ipython3",
   "version": "3.10.11"
  }
 },
 "nbformat": 4,
 "nbformat_minor": 5
}
